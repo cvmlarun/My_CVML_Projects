{
 "cells": [
  {
   "cell_type": "markdown",
   "metadata": {},
   "source": [
    "# Trees"
   ]
  },
  {
   "cell_type": "markdown",
   "metadata": {},
   "source": [
    "## Binary Tree"
   ]
  },
  {
   "cell_type": "code",
   "execution_count": 1,
   "metadata": {},
   "outputs": [],
   "source": [
    "class Node: \n",
    "    def __init__(self,key): \n",
    "        self.left = None\n",
    "        self.right = None\n",
    "        self.val = key "
   ]
  },
  {
   "cell_type": "code",
   "execution_count": 2,
   "metadata": {},
   "outputs": [],
   "source": [
    "# Adding Nodes to tree\n",
    "A = Node(1)\n",
    "A.left =Node(2)\n",
    "A.right=Node(3)\n",
    "A.left.left = Node(4)\n",
    "A.left.right = Node(5)\n",
    "A.right.left = Node(6)\n",
    "A.right.right = Node(7)\n",
    "\n"
   ]
  },
  {
   "cell_type": "code",
   "execution_count": 3,
   "metadata": {},
   "outputs": [
    {
     "name": "stdout",
     "output_type": "stream",
     "text": [
      "1\n",
      "2\n",
      "3\n",
      "4\n",
      "5\n",
      "6\n",
      "7\n"
     ]
    }
   ],
   "source": [
    "# Breadth first search of tree\n",
    "q = []\n",
    "q.append(A)\n",
    "while(len(q)):\n",
    "    node = q.pop(0)\n",
    "    print(node.val)\n",
    "    if(node.left is not None):\n",
    "        q.append(node.left)\n",
    "    if(node.right is not None):\n",
    "        q.append(node.right)\n",
    "    \n",
    "    \n",
    "    "
   ]
  },
  {
   "cell_type": "markdown",
   "metadata": {},
   "source": [
    "# Note on Queues\n"
   ]
  },
  {
   "cell_type": "code",
   "execution_count": 4,
   "metadata": {},
   "outputs": [
    {
     "name": "stdout",
     "output_type": "stream",
     "text": [
      "By default pops last element added 3\n",
      "use zero idx to get first element added 1\n"
     ]
    }
   ],
   "source": [
    "Q = []\n",
    "Q.append(1)\n",
    "Q.append(2)\n",
    "Q.append(3)\n",
    "\n",
    "print(\"By default pops last element added\", Q.pop())\n",
    "print(\"use zero idx to get first element added\", Q.pop(0))\n"
   ]
  },
  {
   "cell_type": "markdown",
   "metadata": {},
   "source": [
    "## In order traversal left, root, right"
   ]
  },
  {
   "cell_type": "code",
   "execution_count": 5,
   "metadata": {},
   "outputs": [
    {
     "name": "stdout",
     "output_type": "stream",
     "text": [
      "4\n",
      "2\n",
      "5\n",
      "1\n",
      "6\n",
      "3\n",
      "7\n",
      "[4, 2, 5, 1, 6, 3, 7]\n"
     ]
    }
   ],
   "source": [
    "def tree_rec(A, list_A):\n",
    "    if A.left:\n",
    "        tree_rec(A.left, List_A)\n",
    "    print(A.val)\n",
    "    list_A.append(A.val)\n",
    "    if A.right:\n",
    "        tree_rec(A.right, List_A)\n",
    "List_A  =[]        \n",
    "tree_rec(A, List_A)\n",
    "print(List_A)"
   ]
  },
  {
   "cell_type": "markdown",
   "metadata": {},
   "source": [
    "## Pre order traversal left, root, right"
   ]
  },
  {
   "cell_type": "code",
   "execution_count": 6,
   "metadata": {},
   "outputs": [
    {
     "name": "stdout",
     "output_type": "stream",
     "text": [
      "1\n",
      "2\n",
      "4\n",
      "5\n",
      "3\n",
      "6\n",
      "7\n",
      "[1, 2, 4, 5, 3, 6, 7]\n"
     ]
    }
   ],
   "source": [
    "def tree_rec(A, list_A):\n",
    "    print(A.val)\n",
    "    list_A.append(A.val)\n",
    "    if A.left:\n",
    "        tree_rec(A.left, List_A)\n",
    "    if A.right:\n",
    "        tree_rec(A.right, List_A)\n",
    "List_A  =[]        \n",
    "tree_rec(A, List_A)\n",
    "print(List_A)"
   ]
  },
  {
   "cell_type": "markdown",
   "metadata": {},
   "source": [
    "## Post order traversal left, right, root, "
   ]
  },
  {
   "cell_type": "code",
   "execution_count": 7,
   "metadata": {},
   "outputs": [
    {
     "name": "stdout",
     "output_type": "stream",
     "text": [
      "4\n",
      "5\n",
      "2\n",
      "6\n",
      "7\n",
      "3\n",
      "1\n",
      "[4, 5, 2, 6, 7, 3, 1]\n"
     ]
    }
   ],
   "source": [
    "def tree_rec(A, list_A):\n",
    "    \n",
    "    if A.left:\n",
    "        tree_rec(A.left, List_A)\n",
    "    if A.right:\n",
    "        tree_rec(A.right, List_A)\n",
    "    print(A.val)\n",
    "    list_A.append(A.val)\n",
    "List_A  =[]        \n",
    "tree_rec(A, List_A)\n",
    "print(List_A)"
   ]
  },
  {
   "cell_type": "code",
   "execution_count": 8,
   "metadata": {},
   "outputs": [
    {
     "name": "stdout",
     "output_type": "stream",
     "text": [
      "4\n",
      "2\n",
      "5\n",
      "1\n",
      "6\n",
      "3\n",
      "7\n"
     ]
    }
   ],
   "source": [
    "# inorder without nesting\n",
    "stack = []\n",
    "cur_node = A\n",
    "while True:\n",
    "    if cur_node is not None:\n",
    "        stack.append(cur_node)\n",
    "        cur_node = cur_node.left\n",
    "    \n",
    "    elif(len(stack)):\n",
    "        cur_node = stack.pop()\n",
    "        print(cur_node.val)\n",
    "        cur_node = cur_node.right\n",
    "    else:\n",
    "        break\n",
    "            \n",
    "    \n"
   ]
  },
  {
   "cell_type": "code",
   "execution_count": 9,
   "metadata": {},
   "outputs": [
    {
     "name": "stdout",
     "output_type": "stream",
     "text": [
      "1\n",
      "2\n",
      "4\n",
      "5\n",
      "3\n",
      "6\n",
      "7\n"
     ]
    }
   ],
   "source": [
    "#pre order without nsting\n",
    "stack = []\n",
    "cur_node = A\n",
    "while True:\n",
    "    \n",
    "    if cur_node is not None:\n",
    "        print(cur_node.val)\n",
    "        stack.append(cur_node)\n",
    "        cur_node = cur_node.left\n",
    "    \n",
    "    elif(len(stack)):\n",
    "        cur_node = stack.pop()\n",
    "        \n",
    "        cur_node = cur_node.right\n",
    "    else:\n",
    "        break"
   ]
  },
  {
   "cell_type": "code",
   "execution_count": 10,
   "metadata": {},
   "outputs": [
    {
     "name": "stdout",
     "output_type": "stream",
     "text": [
      "4\n",
      "2\n",
      "5\n",
      "1\n",
      "6\n",
      "3\n",
      "7\n"
     ]
    }
   ],
   "source": [
    "#post order without nsting\n",
    "stack = []\n",
    "cur_node = A\n",
    "while True:\n",
    "    \n",
    "    if cur_node is not None:\n",
    "        \n",
    "        stack.append(cur_node)\n",
    "        cur_node = cur_node.left\n",
    "    \n",
    "    elif(len(stack)):\n",
    "        cur_node = stack.pop()        \n",
    "        print(cur_node.val)        \n",
    "        cur_node = cur_node.right\n",
    "    else:\n",
    "        break"
   ]
  },
  {
   "cell_type": "markdown",
   "metadata": {},
   "source": [
    "# Binary Heap"
   ]
  },
  {
   "cell_type": "markdown",
   "metadata": {},
   "source": [
    "The root element will be at Arr[0].\n",
    "Below table shows indexes of other nodes for the ith node, i.e., Arr[i]:\n",
    "\n",
    "Arr[(i-1)/2] \tReturns the parent node\n",
    "\n",
    "Arr[(2*i)+1] \tReturns the left child node\n",
    "\n",
    "Arr[(2*i)+2] \tReturns the right child node"
   ]
  },
  {
   "cell_type": "code",
   "execution_count": 11,
   "metadata": {},
   "outputs": [
    {
     "name": "stdout",
     "output_type": "stream",
     "text": [
      "7 8\n",
      "15 16\n",
      "5 6\n",
      "13 14\n",
      "3 4\n",
      "7 8\n",
      "15 16\n",
      "1 2\n",
      "3 4\n",
      "9 10\n",
      "[8, 5, 7, 4, 1, 6, 3, 2]\n"
     ]
    }
   ],
   "source": [
    "# Heapify from array\n",
    "A = [1,2,3,4,5,6,7,8]\n",
    "\n",
    "def hepify(A):\n",
    "    n = len(A)\n",
    "    for idx in range((int(n/2) - 1), -1,-1):\n",
    "        cur_idx = idx\n",
    "        while True:\n",
    "            \n",
    "            lc = cur_idx*2 + 1\n",
    "            rc = cur_idx*2 + 2\n",
    "            print(lc,rc)\n",
    "            large_idx = cur_idx\n",
    "                        \n",
    "            if(lc < n and A[lc] > A[large_idx]):\n",
    "                large_idx = lc\n",
    "            \n",
    "            if(rc < n and A[rc] > A[large_idx]):\n",
    "                large_idx = rc\n",
    "                \n",
    "            if(large_idx != cur_idx):\n",
    "                tmp = A[large_idx]\n",
    "                A[large_idx] = A[cur_idx]\n",
    "                A[cur_idx] = tmp\n",
    "                cur_idx = large_idx\n",
    "            else:\n",
    "                break\n",
    "                \n",
    "                \n",
    "\n",
    "hepify(A)\n",
    "print(A)\n",
    "                \n",
    "\n",
    "                \n",
    "            \n",
    "        "
   ]
  },
  {
   "cell_type": "code",
   "execution_count": 12,
   "metadata": {},
   "outputs": [
    {
     "name": "stdout",
     "output_type": "stream",
     "text": [
      "4\n",
      "3\n",
      "2\n",
      "1\n",
      "0\n"
     ]
    }
   ],
   "source": [
    "n = 10\n",
    "for idx in range((int(n/2) - 1), -1,-1):\n",
    "    print(idx)"
   ]
  },
  {
   "cell_type": "code",
   "execution_count": 13,
   "metadata": {},
   "outputs": [
    {
     "name": "stdout",
     "output_type": "stream",
     "text": [
      "[9, 8, 7, 4, 5, 6, 3, 2, 1]\n"
     ]
    }
   ],
   "source": [
    "A = [1,2,3,4,5,6,7, 8, 9]\n",
    "def heapify(A):\n",
    "    \n",
    "    n = len(A)\n",
    "    for idx  in range(n//2 -1,-1,-1):\n",
    "        cur_idx = idx\n",
    "        while True:\n",
    "            lc = cur_idx * 2 + 1\n",
    "            rc = cur_idx * 2 + 2\n",
    "            largest = cur_idx\n",
    "            if(lc < n ) and A[lc] > A[largest]:\n",
    "                largest = lc\n",
    "            if(rc < n ) and A[rc] > A[largest]:\n",
    "                largest = rc\n",
    "                \n",
    "            if(largest != cur_idx):\n",
    "                tmp = A[largest]\n",
    "                A[largest] = A[cur_idx]\n",
    "                A[cur_idx] = tmp\n",
    "                cur_idx = largest\n",
    "            else:\n",
    "                break\n",
    "                \n",
    "\n",
    "            \n",
    "            \n",
    "heapify(A)\n",
    "print(A)\n",
    "            \n"
   ]
  },
  {
   "cell_type": "code",
   "execution_count": 14,
   "metadata": {},
   "outputs": [
    {
     "name": "stdout",
     "output_type": "stream",
     "text": [
      "8  before [1, 8, 7, 4, 5, 6, 3, 2, 9]\n",
      "8  after [8, 5, 7, 4, 1, 6, 3, 2, 9]\n",
      "7  before [2, 5, 7, 4, 1, 6, 3, 8, 9]\n",
      "7  after [7, 5, 6, 4, 1, 2, 3, 8, 9]\n",
      "6  before [3, 5, 6, 4, 1, 2, 7, 8, 9]\n",
      "6  after [6, 5, 3, 4, 1, 2, 7, 8, 9]\n",
      "5  before [2, 5, 3, 4, 1, 6, 7, 8, 9]\n",
      "5  after [5, 4, 3, 2, 1, 6, 7, 8, 9]\n",
      "4  before [1, 4, 3, 2, 5, 6, 7, 8, 9]\n",
      "4  after [4, 2, 3, 1, 5, 6, 7, 8, 9]\n",
      "3  before [1, 2, 3, 4, 5, 6, 7, 8, 9]\n",
      "3  after [3, 2, 1, 4, 5, 6, 7, 8, 9]\n",
      "2  before [1, 2, 3, 4, 5, 6, 7, 8, 9]\n",
      "2  after [2, 1, 3, 4, 5, 6, 7, 8, 9]\n",
      "1  before [1, 2, 3, 4, 5, 6, 7, 8, 9]\n",
      "1  after [1, 2, 3, 4, 5, 6, 7, 8, 9]\n",
      "0  before [1, 2, 3, 4, 5, 6, 7, 8, 9]\n",
      "0  after [1, 2, 3, 4, 5, 6, 7, 8, 9]\n",
      "[1, 2, 3, 4, 5, 6, 7, 8, 9]\n"
     ]
    }
   ],
   "source": [
    "# Heap sort\n",
    "\n",
    "for idx in range(len(A)):\n",
    "    \n",
    "    # extract top of heap and swap it with last element    \n",
    "    len_traverse = len(A) - idx - 1\n",
    "    A[0], A[len_traverse] =  A[len_traverse], A[0]\n",
    "    cur_idx =  0\n",
    "    print(len_traverse,\" before\", A)\n",
    "    while True:\n",
    "        lc = cur_idx *2 + 1\n",
    "        rc = cur_idx *2 + 2\n",
    "        large_idx = cur_idx\n",
    "        if(lc < len_traverse)  and (A[lc] > A[large_idx] ):\n",
    "            large_idx = lc\n",
    "        if(rc < len_traverse) and (A[rc] > A[large_idx]) :\n",
    "            large_idx = rc\n",
    "            \n",
    "        if(large_idx != cur_idx):\n",
    "            A[large_idx], A[cur_idx] = A[cur_idx], A[large_idx]\n",
    "            cur_idx = large_idx\n",
    "        else:\n",
    "            break\n",
    "    print(len_traverse,\" after\", A)   \n",
    "            \n",
    "print(A)        \n",
    "        \n",
    "        \n",
    "    \n",
    "    \n",
    "    "
   ]
  },
  {
   "cell_type": "code",
   "execution_count": 16,
   "metadata": {},
   "outputs": [
    {
     "ename": "AttributeError",
     "evalue": "'NoneType' object has no attribute 'val'",
     "output_type": "error",
     "traceback": [
      "\u001b[0;31m---------------------------------------------------------------------------\u001b[0m",
      "\u001b[0;31mAttributeError\u001b[0m                            Traceback (most recent call last)",
      "\u001b[0;32m<ipython-input-16-c43400ccef51>\u001b[0m in \u001b[0;36m<module>\u001b[0;34m\u001b[0m\n\u001b[1;32m      6\u001b[0m \u001b[0mmodify1\u001b[0m\u001b[0;34m(\u001b[0m\u001b[0mnode\u001b[0m\u001b[0;34m)\u001b[0m\u001b[0;34m\u001b[0m\u001b[0;34m\u001b[0m\u001b[0m\n\u001b[1;32m      7\u001b[0m \u001b[0;34m\u001b[0m\u001b[0m\n\u001b[0;32m----> 8\u001b[0;31m \u001b[0mprint\u001b[0m\u001b[0;34m(\u001b[0m\u001b[0mnode\u001b[0m\u001b[0;34m.\u001b[0m\u001b[0mval\u001b[0m\u001b[0;34m,\u001b[0m \u001b[0mnode\u001b[0m\u001b[0;34m.\u001b[0m\u001b[0mleft\u001b[0m\u001b[0;34m.\u001b[0m\u001b[0mval\u001b[0m\u001b[0;34m,\u001b[0m \u001b[0mnode\u001b[0m\u001b[0;34m.\u001b[0m\u001b[0mright\u001b[0m\u001b[0;34m.\u001b[0m\u001b[0mval\u001b[0m\u001b[0;34m)\u001b[0m\u001b[0;34m\u001b[0m\u001b[0;34m\u001b[0m\u001b[0m\n\u001b[0m",
      "\u001b[0;31mAttributeError\u001b[0m: 'NoneType' object has no attribute 'val'"
     ]
    }
   ],
   "source": [
    "def modify1(node):\n",
    "    node = Node(1)\n",
    "    node.left = Node(2)\n",
    "    node.right = Node(2)\n",
    "\n",
    "modify1(node)\n",
    "\n",
    "print(node.val, node.left.val, node.right.val)"
   ]
  },
  {
   "cell_type": "code",
   "execution_count": 17,
   "metadata": {},
   "outputs": [],
   "source": [
    "for i in range(1,1):\n",
    "    print(i)"
   ]
  },
  {
   "cell_type": "code",
   "execution_count": 19,
   "metadata": {},
   "outputs": [
    {
     "data": {
      "text/plain": [
       "[3]"
      ]
     },
     "execution_count": 19,
     "metadata": {},
     "output_type": "execute_result"
    }
   ],
   "source": [
    "A = [1,2,3,4]\n",
    "A[2:3]"
   ]
  },
  {
   "cell_type": "code",
   "execution_count": 20,
   "metadata": {},
   "outputs": [
    {
     "ename": "NameError",
     "evalue": "name 'List' is not defined",
     "output_type": "error",
     "traceback": [
      "\u001b[0;31m---------------------------------------------------------------------------\u001b[0m",
      "\u001b[0;31mNameError\u001b[0m                                 Traceback (most recent call last)",
      "\u001b[0;32m<ipython-input-20-198d5c44f021>\u001b[0m in \u001b[0;36m<module>\u001b[0;34m\u001b[0m\n\u001b[1;32m     21\u001b[0m \u001b[0;34m\u001b[0m\u001b[0m\n\u001b[1;32m     22\u001b[0m \u001b[0;34m\u001b[0m\u001b[0m\n\u001b[0;32m---> 23\u001b[0;31m \u001b[0;32mclass\u001b[0m \u001b[0mSolution\u001b[0m\u001b[0;34m:\u001b[0m\u001b[0;34m\u001b[0m\u001b[0;34m\u001b[0m\u001b[0m\n\u001b[0m\u001b[1;32m     24\u001b[0m     \u001b[0;32mdef\u001b[0m \u001b[0mconstructMaximumBinaryTree\u001b[0m\u001b[0;34m(\u001b[0m\u001b[0mself\u001b[0m\u001b[0;34m,\u001b[0m \u001b[0mnums\u001b[0m\u001b[0;34m:\u001b[0m \u001b[0mList\u001b[0m\u001b[0;34m[\u001b[0m\u001b[0mint\u001b[0m\u001b[0;34m]\u001b[0m\u001b[0;34m)\u001b[0m \u001b[0;34m->\u001b[0m \u001b[0mTreeNode\u001b[0m\u001b[0;34m:\u001b[0m\u001b[0;34m\u001b[0m\u001b[0;34m\u001b[0m\u001b[0m\n\u001b[1;32m     25\u001b[0m \u001b[0;34m\u001b[0m\u001b[0m\n",
      "\u001b[0;32m<ipython-input-20-198d5c44f021>\u001b[0m in \u001b[0;36mSolution\u001b[0;34m()\u001b[0m\n\u001b[1;32m     22\u001b[0m \u001b[0;34m\u001b[0m\u001b[0m\n\u001b[1;32m     23\u001b[0m \u001b[0;32mclass\u001b[0m \u001b[0mSolution\u001b[0m\u001b[0;34m:\u001b[0m\u001b[0;34m\u001b[0m\u001b[0;34m\u001b[0m\u001b[0m\n\u001b[0;32m---> 24\u001b[0;31m     \u001b[0;32mdef\u001b[0m \u001b[0mconstructMaximumBinaryTree\u001b[0m\u001b[0;34m(\u001b[0m\u001b[0mself\u001b[0m\u001b[0;34m,\u001b[0m \u001b[0mnums\u001b[0m\u001b[0;34m:\u001b[0m \u001b[0mList\u001b[0m\u001b[0;34m[\u001b[0m\u001b[0mint\u001b[0m\u001b[0;34m]\u001b[0m\u001b[0;34m)\u001b[0m \u001b[0;34m->\u001b[0m \u001b[0mTreeNode\u001b[0m\u001b[0;34m:\u001b[0m\u001b[0;34m\u001b[0m\u001b[0;34m\u001b[0m\u001b[0m\n\u001b[0m\u001b[1;32m     25\u001b[0m \u001b[0;34m\u001b[0m\u001b[0m\n\u001b[1;32m     26\u001b[0m         \u001b[0mroot\u001b[0m \u001b[0;34m=\u001b[0m \u001b[0mform_tree\u001b[0m\u001b[0;34m(\u001b[0m\u001b[0mnums\u001b[0m\u001b[0;34m)\u001b[0m\u001b[0;34m\u001b[0m\u001b[0;34m\u001b[0m\u001b[0m\n",
      "\u001b[0;31mNameError\u001b[0m: name 'List' is not defined"
     ]
    }
   ],
   "source": [
    "# https://leetcode.com/problems/maximum-binary-tree/submissions/\n",
    "def max_val_pos(nums):\n",
    "    max_pos = 0\n",
    "    max_val = nums[0]\n",
    "    for idx in range(1,len(nums)):\n",
    "        if(max_val < nums[idx]):\n",
    "            max_val = nums[idx]\n",
    "            max_pos = idx\n",
    "    return max_pos, max_val\n",
    "\n",
    "def form_tree(nums):\n",
    "    if len(nums) == 0:\n",
    "        return None\n",
    "    max_pos, max_val = max_val_pos(nums)\n",
    "    root = TreeNode(max_val)\n",
    "    if(max_pos > 0):\n",
    "        root.left = form_tree(nums[0:max_pos])\n",
    "    if(max_pos < (len(nums) - 1)):\n",
    "        root.right = form_tree(nums[max_pos+1:])\n",
    "    return root\n",
    "    \n",
    "    \n",
    "class Solution:\n",
    "    def constructMaximumBinaryTree(self, nums: List[int]) -> TreeNode:\n",
    "        \n",
    "        root = form_tree(nums)\n",
    "        return root\n",
    "        "
   ]
  },
  {
   "cell_type": "code",
   "execution_count": 22,
   "metadata": {},
   "outputs": [
    {
     "ename": "SyntaxError",
     "evalue": "invalid syntax (<ipython-input-22-2173bfdaef4d>, line 4)",
     "output_type": "error",
     "traceback": [
      "\u001b[0;36m  File \u001b[0;32m\"<ipython-input-22-2173bfdaef4d>\"\u001b[0;36m, line \u001b[0;32m4\u001b[0m\n\u001b[0;31m    if(has_one == 1 OR has_Lone == 1, OR has_Rone == 1):\u001b[0m\n\u001b[0m                     ^\u001b[0m\n\u001b[0;31mSyntaxError\u001b[0m\u001b[0;31m:\u001b[0m invalid syntax\n"
     ]
    }
   ],
   "source": [
    "# Definition for a binary tree node.\n",
    "# class TreeNode:\n",
    "#     def __init__(self, val=0, left=None, right=None):\n",
    "#         self.val = val\n",
    "#         self.left = left\n",
    "#         self.right = right\n",
    "def check_one(root):\n",
    "    if(root is None):\n",
    "        return 0\n",
    "    has_one = root.val\n",
    "    has_Lone = 0\n",
    "    has_Rone = 0\n",
    "    \n",
    "    if(root.left is not None):\n",
    "        has_Lone = check_one(root.left)\n",
    "        if(has_Lone == 0):\n",
    "            root.left = None\n",
    "    if(root.right is not None):\n",
    "        has_Rone = check_one(root.right)\n",
    "        if(has_Rone == 0):\n",
    "            root.right = None\n",
    "        \n",
    "    if(has_one == 1 or has_Lone == 1 or has_Rone == 1):\n",
    "        return 1\n",
    "    else:\n",
    "        return 0\n",
    "    \n",
    "class Solution:\n",
    "    def pruneTree(self, root: TreeNode) -> TreeNode:\n",
    "        \n",
    "        ret_val = check_one(root)\n",
    "        if(ret_val == 0):\n",
    "            root = None\n",
    "        return root\n",
    "        "
   ]
  },
  {
   "cell_type": "code",
   "execution_count": 23,
   "metadata": {},
   "outputs": [
    {
     "ename": "SyntaxError",
     "evalue": "invalid syntax (<ipython-input-23-98ca8b23d33f>, line 1)",
     "output_type": "error",
     "traceback": [
      "\u001b[0;36m  File \u001b[0;32m\"<ipython-input-23-98ca8b23d33f>\"\u001b[0;36m, line \u001b[0;32m1\u001b[0m\n\u001b[0;31m    https://leetcode.com/problems/validate-binary-search-tree/submissions/\u001b[0m\n\u001b[0m           ^\u001b[0m\n\u001b[0;31mSyntaxError\u001b[0m\u001b[0;31m:\u001b[0m invalid syntax\n"
     ]
    }
   ],
   "source": [
    "https://leetcode.com/problems/validate-binary-search-tree/submissions/\n",
    "    "
   ]
  },
  {
   "cell_type": "code",
   "execution_count": null,
   "metadata": {},
   "outputs": [],
   "source": []
  }
 ],
 "metadata": {
  "kernelspec": {
   "display_name": "Python 3",
   "language": "python",
   "name": "python3"
  },
  "language_info": {
   "codemirror_mode": {
    "name": "ipython",
    "version": 3
   },
   "file_extension": ".py",
   "mimetype": "text/x-python",
   "name": "python",
   "nbconvert_exporter": "python",
   "pygments_lexer": "ipython3",
   "version": "3.7.4"
  }
 },
 "nbformat": 4,
 "nbformat_minor": 2
}
